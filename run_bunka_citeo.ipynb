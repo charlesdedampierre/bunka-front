{
 "cells": [
  {
   "cell_type": "code",
   "execution_count": 3,
   "metadata": {},
   "outputs": [],
   "source": [
    "import pandas as pd\n",
    "\n",
    "data = pd.read_parquet('data/sample_Plastique.parquet')\n",
    "data = data.sample(20000, random_state=42)\n",
    "ids = list(data['tweet_id'])\n",
    "docs = list(data['text'])"
   ]
  },
  {
   "cell_type": "code",
   "execution_count": 4,
   "metadata": {},
   "outputs": [],
   "source": [
    "from langchain_community.embeddings import HuggingFaceEmbeddings\n",
    "import os\n",
    "\n",
    "model_name = \"OrdalieTech/Solon-embeddings-large-0.1\"\n",
    "\n",
    "# Choose your embedding model\n",
    "embedding_model = HuggingFaceEmbeddings(model_name=model_name,# We recommend starting with a small model\n",
    "                                        model_kwargs={\"device\": \"cpu\"}, # Or cuda if you have GPU\n",
    "                                        # encode_kwargs={\"show_progress_bar\": True}, # Show the progress of embeddings\n",
    "                                        multi_process=False)  # set to True if you have mutliprocessing"
   ]
  },
  {
   "cell_type": "code",
   "execution_count": 5,
   "metadata": {},
   "outputs": [
    {
     "name": "stderr",
     "output_type": "stream",
     "text": [
      "\u001b[32m2024-02-15 14:35:50 - \u001b[94mBunka\u001b[0m - INFO - \u001b[1mEmbedding documents... (can take varying amounts of time depending on their size)\u001b[0m\n",
      "\u001b[32m2024-02-15 14:51:15 - \u001b[94mBunka\u001b[0m - INFO - \u001b[1mReducing the dimensions of embeddings...\u001b[0m\n",
      "OMP: Info #276: omp_set_nested routine deprecated, please use omp_set_max_active_levels instead.\n",
      "\u001b[32m2024-02-15 14:51:28 - \u001b[94mBunka\u001b[0m - INFO - \u001b[1mExtracting meaningful terms from documents...\u001b[0m\n",
      "100%|██████████| 20000/20000 [02:43<00:00, 122.40it/s]\n"
     ]
    }
   ],
   "source": [
    "from bunkatopics import Bunka\n",
    "\n",
    "# Initialize Bunka with your chosen model and language preference\n",
    "bunka = Bunka(embedding_model=embedding_model, language='french') # You can choose any language you prefer\n",
    "\n",
    "# Fit Bunka to your text data\n",
    "bunka.fit(docs=docs, ids=ids)"
   ]
  },
  {
   "cell_type": "markdown",
   "metadata": {},
   "source": [
    "### Compute topics"
   ]
  },
  {
   "cell_type": "code",
   "execution_count": 10,
   "metadata": {},
   "outputs": [
    {
     "name": "stderr",
     "output_type": "stream",
     "text": [
      "\u001b[32m2024-02-15 15:01:32 - \u001b[94mBunka\u001b[0m - INFO - \u001b[1mComputing the topics\u001b[0m\n"
     ]
    }
   ],
   "source": [
    "from sklearn.cluster import KMeans\n",
    "clustering_method = KMeans(n_clusters=20, random_state=42)\n",
    "\n",
    "df_topics = bunka.get_topics(n_clusters=20, name_length=5, min_count_terms = 5, custom_clustering_model = clustering_method) # Specify the number of terms to describe each topic\n",
    "\n",
    "\n",
    "df_topics = df_topics[df_topics['size']>=100]\n",
    "\n",
    "# Filter with the new topics\n",
    "new_topics = []\n",
    "\n",
    "for topic in bunka.topics:\n",
    "    if topic.topic_id in list(df_topics['topic_id']):\n",
    "        new_topics.append(topic)\n",
    "\n",
    "bunka.topics = new_topics"
   ]
  },
  {
   "cell_type": "code",
   "execution_count": 13,
   "metadata": {},
   "outputs": [
    {
     "data": {
      "text/plain": [
       "['bt-0',\n",
       " 'bt-1',\n",
       " 'bt-10',\n",
       " 'bt-11',\n",
       " 'bt-12',\n",
       " 'bt-13',\n",
       " 'bt-16',\n",
       " 'bt-18',\n",
       " 'bt-19',\n",
       " 'bt-2',\n",
       " 'bt-3',\n",
       " 'bt-4',\n",
       " 'bt-5',\n",
       " 'bt-6',\n",
       " 'bt-7',\n",
       " 'bt-8',\n",
       " 'bt-9']"
      ]
     },
     "execution_count": 13,
     "metadata": {},
     "output_type": "execute_result"
    }
   ],
   "source": [
    "topic_ids_filtered = [x.topic_id for x in bunka.topics]"
   ]
  },
  {
   "cell_type": "code",
   "execution_count": 14,
   "metadata": {},
   "outputs": [],
   "source": [
    "# remove the docs that are off topics\n",
    "\n",
    "new_docs = [x for x in bunka.docs if x.topic_id in topic_ids_filtered]\n",
    "\n",
    "bunka.docs = new_docs"
   ]
  },
  {
   "cell_type": "markdown",
   "metadata": {},
   "source": [
    "### Save the content to be read by the Web App"
   ]
  },
  {
   "cell_type": "code",
   "execution_count": 15,
   "metadata": {},
   "outputs": [],
   "source": [
    "import json\n",
    "# Save Topics\n",
    "file_path = 'web/public/bunka_topics.json'\n",
    "topics_json = [x.model_dump() for x in bunka.topics]\n",
    "with open(file_path, \"w\") as json_file:\n",
    "    json.dump(topics_json, json_file)\n",
    "\n",
    "\n",
    "# Save Docs\n",
    "file_path =  'web/public/bunka_docs.json'\n",
    "files_json = [x.model_dump() for x in bunka.docs]\n",
    "with open(file_path, \"w\") as json_file:\n",
    "    json.dump(files_json, json_file)"
   ]
  }
 ],
 "metadata": {
  "kernelspec": {
   "display_name": "bunka-front-env",
   "language": "python",
   "name": "python3"
  },
  "language_info": {
   "codemirror_mode": {
    "name": "ipython",
    "version": 3
   },
   "file_extension": ".py",
   "mimetype": "text/x-python",
   "name": "python",
   "nbconvert_exporter": "python",
   "pygments_lexer": "ipython3",
   "version": "3.11.7"
  }
 },
 "nbformat": 4,
 "nbformat_minor": 2
}
